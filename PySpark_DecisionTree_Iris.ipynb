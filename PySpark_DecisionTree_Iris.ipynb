{
 "cells": [
  {
   "cell_type": "code",
   "execution_count": 1,
   "id": "5f6b3470",
   "metadata": {},
   "outputs": [],
   "source": [
    "from pyspark.sql import SparkSession"
   ]
  },
  {
   "cell_type": "code",
   "execution_count": 2,
   "id": "b1bc96cb",
   "metadata": {
    "collapsed": true
   },
   "outputs": [
    {
     "name": "stderr",
     "output_type": "stream",
     "text": [
      "23/10/31 11:16:07 WARN Utils: Your hostname, Priyanshs-MacBook-Air.local resolves to a loopback address: 127.0.0.1; using 192.168.30.200 instead (on interface en0)\n",
      "23/10/31 11:16:07 WARN Utils: Set SPARK_LOCAL_IP if you need to bind to another address\n",
      "Setting default log level to \"WARN\".\n",
      "To adjust logging level use sc.setLogLevel(newLevel). For SparkR, use setLogLevel(newLevel).\n",
      "23/10/31 11:16:07 WARN NativeCodeLoader: Unable to load native-hadoop library for your platform... using builtin-java classes where applicable\n",
      "23/10/31 11:16:07 WARN Utils: Service 'SparkUI' could not bind on port 4040. Attempting port 4041.\n"
     ]
    }
   ],
   "source": [
    "spark = SparkSession.builder.getOrCreate()"
   ]
  },
  {
   "cell_type": "code",
   "execution_count": 14,
   "id": "db2e2265",
   "metadata": {},
   "outputs": [
    {
     "name": "stdout",
     "output_type": "stream",
     "text": [
      "+-------------+------------+-------------+------------+-------+\n",
      "|SepalLengthCm|SepalWidthCm|PetalLengthCm|PetalWidthCm|Species|\n",
      "+-------------+------------+-------------+------------+-------+\n",
      "|          5.1|         3.5|          1.4|         0.2|      0|\n",
      "|          4.9|         3.0|          1.4|         0.2|      0|\n",
      "|          4.7|         3.2|          1.3|         0.2|      0|\n",
      "|          4.6|         3.1|          1.5|         0.2|      0|\n",
      "|          5.0|         3.6|          1.4|         0.2|      0|\n",
      "+-------------+------------+-------------+------------+-------+\n",
      "only showing top 5 rows\n",
      "\n"
     ]
    }
   ],
   "source": [
    "data = spark.read.csv('Iris.csv', inferSchema=True, header=True)\n",
    "data.show(5)"
   ]
  },
  {
   "cell_type": "code",
   "execution_count": 15,
   "id": "76f74b08",
   "metadata": {},
   "outputs": [
    {
     "name": "stdout",
     "output_type": "stream",
     "text": [
      "root\n",
      " |-- SepalLengthCm: double (nullable = true)\n",
      " |-- SepalWidthCm: double (nullable = true)\n",
      " |-- PetalLengthCm: double (nullable = true)\n",
      " |-- PetalWidthCm: double (nullable = true)\n",
      " |-- Species: integer (nullable = true)\n",
      "\n"
     ]
    }
   ],
   "source": [
    "data.printSchema()"
   ]
  },
  {
   "cell_type": "code",
   "execution_count": 16,
   "id": "13115b21",
   "metadata": {},
   "outputs": [
    {
     "data": {
      "text/plain": [
       "['SepalLengthCm', 'SepalWidthCm', 'PetalLengthCm', 'PetalWidthCm', 'Species']"
      ]
     },
     "execution_count": 16,
     "metadata": {},
     "output_type": "execute_result"
    }
   ],
   "source": [
    "data.columns"
   ]
  },
  {
   "cell_type": "code",
   "execution_count": 17,
   "id": "07054ebd",
   "metadata": {},
   "outputs": [
    {
     "name": "stdout",
     "output_type": "stream",
     "text": [
      "+-------------+------------+-------------+------------+-------+-----------------+\n",
      "|SepalLengthCm|SepalWidthCm|PetalLengthCm|PetalWidthCm|Species|         features|\n",
      "+-------------+------------+-------------+------------+-------+-----------------+\n",
      "|          5.1|         3.5|          1.4|         0.2|      0|[5.1,3.5,1.4,0.2]|\n",
      "|          4.9|         3.0|          1.4|         0.2|      0|[4.9,3.0,1.4,0.2]|\n",
      "|          4.7|         3.2|          1.3|         0.2|      0|[4.7,3.2,1.3,0.2]|\n",
      "|          4.6|         3.1|          1.5|         0.2|      0|[4.6,3.1,1.5,0.2]|\n",
      "|          5.0|         3.6|          1.4|         0.2|      0|[5.0,3.6,1.4,0.2]|\n",
      "+-------------+------------+-------------+------------+-------+-----------------+\n",
      "only showing top 5 rows\n",
      "\n"
     ]
    }
   ],
   "source": [
    "from pyspark.ml.feature import VectorAssembler\n",
    "assembler = VectorAssembler(inputCols=['SepalLengthCm', 'SepalWidthCm', 'PetalLengthCm', 'PetalWidthCm'], outputCol='features')\n",
    "featured_data = assembler.transform(data)\n",
    "featured_data.show(5)"
   ]
  },
  {
   "cell_type": "code",
   "execution_count": 18,
   "id": "95c4b257",
   "metadata": {},
   "outputs": [
    {
     "name": "stdout",
     "output_type": "stream",
     "text": [
      "+-----------------+-------+\n",
      "|         features|Species|\n",
      "+-----------------+-------+\n",
      "|[5.1,3.5,1.4,0.2]|      0|\n",
      "|[4.9,3.0,1.4,0.2]|      0|\n",
      "|[4.7,3.2,1.3,0.2]|      0|\n",
      "|[4.6,3.1,1.5,0.2]|      0|\n",
      "|[5.0,3.6,1.4,0.2]|      0|\n",
      "+-----------------+-------+\n",
      "only showing top 5 rows\n",
      "\n"
     ]
    }
   ],
   "source": [
    "final_data = featured_data.select('features','Species')\n",
    "final_data.show(5)"
   ]
  },
  {
   "cell_type": "code",
   "execution_count": 19,
   "id": "dcbc967f",
   "metadata": {},
   "outputs": [],
   "source": [
    "train_data, test_data = final_data.randomSplit([0.8,0.2])"
   ]
  },
  {
   "cell_type": "code",
   "execution_count": 20,
   "id": "ef5c2176",
   "metadata": {},
   "outputs": [
    {
     "data": {
      "text/plain": [
       "112"
      ]
     },
     "execution_count": 20,
     "metadata": {},
     "output_type": "execute_result"
    }
   ],
   "source": [
    "train_data.count()"
   ]
  },
  {
   "cell_type": "code",
   "execution_count": 21,
   "id": "e9e3ae0b",
   "metadata": {},
   "outputs": [],
   "source": [
    "from pyspark.ml.classification import DecisionTreeClassifier\n",
    "from pyspark.ml.evaluation import MulticlassClassificationEvaluator"
   ]
  },
  {
   "cell_type": "code",
   "execution_count": 22,
   "id": "4e1f1230",
   "metadata": {},
   "outputs": [],
   "source": [
    "classifier = DecisionTreeClassifier(labelCol='Species').fit(train_data)"
   ]
  },
  {
   "cell_type": "code",
   "execution_count": 23,
   "id": "2b4ee0f4",
   "metadata": {},
   "outputs": [
    {
     "name": "stdout",
     "output_type": "stream",
     "text": [
      "+-----------------+-------+--------------+--------------------+----------+\n",
      "|         features|Species| rawPrediction|         probability|prediction|\n",
      "+-----------------+-------+--------------+--------------------+----------+\n",
      "|[4.4,3.0,1.3,0.2]|      0|[39.0,0.0,0.0]|       [1.0,0.0,0.0]|       0.0|\n",
      "|[4.4,3.2,1.3,0.2]|      0|[39.0,0.0,0.0]|       [1.0,0.0,0.0]|       0.0|\n",
      "|[4.6,3.2,1.4,0.2]|      0|[39.0,0.0,0.0]|       [1.0,0.0,0.0]|       0.0|\n",
      "|[4.6,3.6,1.0,0.2]|      0|[39.0,0.0,0.0]|       [1.0,0.0,0.0]|       0.0|\n",
      "|[5.0,2.0,3.5,1.0]|      1|[0.0,36.0,1.0]|[0.0,0.9729729729...|       1.0|\n",
      "|[5.0,3.0,1.6,0.2]|      0|[39.0,0.0,0.0]|       [1.0,0.0,0.0]|       0.0|\n",
      "|[5.0,3.5,1.6,0.6]|      0|[39.0,0.0,0.0]|       [1.0,0.0,0.0]|       0.0|\n",
      "|[5.1,3.5,1.4,0.3]|      0|[39.0,0.0,0.0]|       [1.0,0.0,0.0]|       0.0|\n",
      "|[5.1,3.8,1.5,0.3]|      0|[39.0,0.0,0.0]|       [1.0,0.0,0.0]|       0.0|\n",
      "|[5.4,3.0,4.5,1.5]|      1|[0.0,36.0,1.0]|[0.0,0.9729729729...|       1.0|\n",
      "|[5.4,3.7,1.5,0.2]|      0|[39.0,0.0,0.0]|       [1.0,0.0,0.0]|       0.0|\n",
      "|[5.5,2.3,4.0,1.3]|      1|[0.0,36.0,1.0]|[0.0,0.9729729729...|       1.0|\n",
      "|[5.5,2.6,4.4,1.2]|      1|[0.0,36.0,1.0]|[0.0,0.9729729729...|       1.0|\n",
      "|[5.5,4.2,1.4,0.2]|      0|[39.0,0.0,0.0]|       [1.0,0.0,0.0]|       0.0|\n",
      "|[5.6,3.0,4.5,1.5]|      1|[0.0,36.0,1.0]|[0.0,0.9729729729...|       1.0|\n",
      "|[5.7,2.5,5.0,2.0]|      2|[0.0,0.0,30.0]|       [0.0,0.0,1.0]|       2.0|\n",
      "|[5.7,2.6,3.5,1.0]|      1|[0.0,36.0,1.0]|[0.0,0.9729729729...|       1.0|\n",
      "|[5.7,4.4,1.5,0.4]|      0|[39.0,0.0,0.0]|       [1.0,0.0,0.0]|       0.0|\n",
      "|[5.8,2.7,5.1,1.9]|      2|[0.0,0.0,30.0]|       [0.0,0.0,1.0]|       2.0|\n",
      "|[5.8,2.8,5.1,2.4]|      2|[0.0,0.0,30.0]|       [0.0,0.0,1.0]|       2.0|\n",
      "+-----------------+-------+--------------+--------------------+----------+\n",
      "only showing top 20 rows\n",
      "\n"
     ]
    }
   ],
   "source": [
    "predictions = classifier.transform(test_data)\n",
    "predictions.show()"
   ]
  },
  {
   "cell_type": "code",
   "execution_count": 24,
   "id": "1b549d26",
   "metadata": {},
   "outputs": [
    {
     "data": {
      "text/plain": [
       "97.36842105263158"
      ]
     },
     "execution_count": 24,
     "metadata": {},
     "output_type": "execute_result"
    }
   ],
   "source": [
    "model_accuracy = MulticlassClassificationEvaluator(labelCol='Species',metricName='accuracy').evaluate(predictions)\n",
    "model_accuracy*100"
   ]
  },
  {
   "cell_type": "code",
   "execution_count": 3,
   "id": "3b8bb680",
   "metadata": {},
   "outputs": [
    {
     "name": "stdout",
     "output_type": "stream",
     "text": [
      "+---+---+------+------+------+----+-------------+\n",
      "| ID|Age|Gender|Height|Weight| BMI|        Label|\n",
      "+---+---+------+------+------+----+-------------+\n",
      "|  1| 25|  Male|   175|    80|25.3|Normal Weight|\n",
      "|  2| 30|Female|   160|    60|22.5|Normal Weight|\n",
      "|  3| 35|  Male|   180|    90|27.3|   Overweight|\n",
      "|  4| 40|Female|   150|    50|20.0|  Underweight|\n",
      "|  5| 45|  Male|   190|   100|31.2|        Obese|\n",
      "+---+---+------+------+------+----+-------------+\n",
      "only showing top 5 rows\n",
      "\n"
     ]
    }
   ],
   "source": [
    "raw_data = spark.read.csv('Obesity Classification.csv', header=True, inferSchema=True)\n",
    "raw_data.show(5)"
   ]
  },
  {
   "cell_type": "code",
   "execution_count": 4,
   "id": "82e479b9",
   "metadata": {},
   "outputs": [
    {
     "name": "stdout",
     "output_type": "stream",
     "text": [
      "root\n",
      " |-- ID: integer (nullable = true)\n",
      " |-- Age: integer (nullable = true)\n",
      " |-- Gender: string (nullable = true)\n",
      " |-- Height: integer (nullable = true)\n",
      " |-- Weight: integer (nullable = true)\n",
      " |-- BMI: double (nullable = true)\n",
      " |-- Label: string (nullable = true)\n",
      "\n"
     ]
    }
   ],
   "source": [
    "raw_data.printSchema()"
   ]
  },
  {
   "cell_type": "code",
   "execution_count": 7,
   "id": "601b0283",
   "metadata": {},
   "outputs": [
    {
     "name": "stdout",
     "output_type": "stream",
     "text": [
      "+-------------+-----+\n",
      "|        Label|count|\n",
      "+-------------+-----+\n",
      "|Normal Weight|   29|\n",
      "|   Overweight|   20|\n",
      "|  Underweight|   47|\n",
      "|        Obese|   12|\n",
      "+-------------+-----+\n",
      "\n"
     ]
    }
   ],
   "source": [
    "raw_data.groupby('Label').count().show()"
   ]
  },
  {
   "cell_type": "code",
   "execution_count": 8,
   "id": "8134d2f7",
   "metadata": {},
   "outputs": [
    {
     "data": {
      "text/plain": [
       "108"
      ]
     },
     "execution_count": 8,
     "metadata": {},
     "output_type": "execute_result"
    }
   ],
   "source": [
    "raw_data.count()"
   ]
  },
  {
   "cell_type": "code",
   "execution_count": 28,
   "id": "8e7c82da",
   "metadata": {},
   "outputs": [
    {
     "name": "stdout",
     "output_type": "stream",
     "text": [
      "+---+---+------+------+------+----+-------------+----------+---------+\n",
      "| ID|Age|Gender|Height|Weight| BMI|        Label|Gender_ind|Label_ind|\n",
      "+---+---+------+------+------+----+-------------+----------+---------+\n",
      "|  1| 25|  Male|   175|    80|25.3|Normal Weight|       0.0|      1.0|\n",
      "|  2| 30|Female|   160|    60|22.5|Normal Weight|       1.0|      1.0|\n",
      "|  3| 35|  Male|   180|    90|27.3|   Overweight|       0.0|      2.0|\n",
      "|  4| 40|Female|   150|    50|20.0|  Underweight|       1.0|      0.0|\n",
      "|  5| 45|  Male|   190|   100|31.2|        Obese|       0.0|      3.0|\n",
      "+---+---+------+------+------+----+-------------+----------+---------+\n",
      "only showing top 5 rows\n",
      "\n"
     ]
    }
   ],
   "source": [
    "from pyspark.ml.feature import StringIndexer\n",
    "indexer = StringIndexer(inputCols=['Gender','Label'],outputCols=['Gender_ind','Label_ind'])\n",
    "indexed_data1 = indexer.fit(raw_data).transform(raw_data)\n",
    "indexed_data1.show(5)"
   ]
  },
  {
   "cell_type": "code",
   "execution_count": 29,
   "id": "16ae005a",
   "metadata": {},
   "outputs": [
    {
     "name": "stdout",
     "output_type": "stream",
     "text": [
      "+---------+-----+\n",
      "|Label_ind|count|\n",
      "+---------+-----+\n",
      "|      0.0|   47|\n",
      "|      1.0|   29|\n",
      "|      3.0|   12|\n",
      "|      2.0|   20|\n",
      "+---------+-----+\n",
      "\n"
     ]
    }
   ],
   "source": [
    "indexed_data1.groupby('Label_ind').count().show()"
   ]
  },
  {
   "cell_type": "code",
   "execution_count": 30,
   "id": "40a1f410",
   "metadata": {},
   "outputs": [
    {
     "name": "stdout",
     "output_type": "stream",
     "text": [
      "+---+---+------+------+------+----+-------------+----------+---------+--------------------+\n",
      "| ID|Age|Gender|Height|Weight| BMI|        Label|Gender_ind|Label_ind|            features|\n",
      "+---+---+------+------+------+----+-------------+----------+---------+--------------------+\n",
      "|  1| 25|  Male|   175|    80|25.3|Normal Weight|       0.0|      1.0|[25.0,0.0,175.0,8...|\n",
      "|  2| 30|Female|   160|    60|22.5|Normal Weight|       1.0|      1.0|[30.0,1.0,160.0,6...|\n",
      "|  3| 35|  Male|   180|    90|27.3|   Overweight|       0.0|      2.0|[35.0,0.0,180.0,9...|\n",
      "|  4| 40|Female|   150|    50|20.0|  Underweight|       1.0|      0.0|[40.0,1.0,150.0,5...|\n",
      "|  5| 45|  Male|   190|   100|31.2|        Obese|       0.0|      3.0|[45.0,0.0,190.0,1...|\n",
      "+---+---+------+------+------+----+-------------+----------+---------+--------------------+\n",
      "only showing top 5 rows\n",
      "\n"
     ]
    }
   ],
   "source": [
    "from pyspark.ml.feature import VectorAssembler\n",
    "assembler = VectorAssembler(inputCols=['Age','Gender_ind','Height','Weight','BMI'], outputCol='features')\n",
    "featured_data1 = assembler.transform(indexed_data1)\n",
    "featured_data1.show(5)"
   ]
  },
  {
   "cell_type": "code",
   "execution_count": 31,
   "id": "160e60a7",
   "metadata": {},
   "outputs": [
    {
     "name": "stdout",
     "output_type": "stream",
     "text": [
      "+--------------------+---------+\n",
      "|            features|Label_ind|\n",
      "+--------------------+---------+\n",
      "|[25.0,0.0,175.0,8...|      1.0|\n",
      "|[30.0,1.0,160.0,6...|      1.0|\n",
      "|[35.0,0.0,180.0,9...|      2.0|\n",
      "|[40.0,1.0,150.0,5...|      0.0|\n",
      "|[45.0,0.0,190.0,1...|      3.0|\n",
      "+--------------------+---------+\n",
      "only showing top 5 rows\n",
      "\n"
     ]
    }
   ],
   "source": [
    "final_data1 = featured_data1.select('features', 'Label_ind')\n",
    "final_data1.show(5)"
   ]
  },
  {
   "cell_type": "code",
   "execution_count": 35,
   "id": "1d9dcab2",
   "metadata": {},
   "outputs": [
    {
     "data": {
      "text/plain": [
       "108"
      ]
     },
     "execution_count": 35,
     "metadata": {},
     "output_type": "execute_result"
    }
   ],
   "source": [
    "final_data1.count()"
   ]
  },
  {
   "cell_type": "code",
   "execution_count": 36,
   "id": "1ffd3a5c",
   "metadata": {},
   "outputs": [
    {
     "data": {
      "text/plain": [
       "92"
      ]
     },
     "execution_count": 36,
     "metadata": {},
     "output_type": "execute_result"
    }
   ],
   "source": [
    "train, test = final_data1.randomSplit([0.8,0.2])\n",
    "train.count()"
   ]
  },
  {
   "cell_type": "code",
   "execution_count": 37,
   "id": "0f282364",
   "metadata": {},
   "outputs": [
    {
     "data": {
      "text/plain": [
       "16"
      ]
     },
     "execution_count": 37,
     "metadata": {},
     "output_type": "execute_result"
    }
   ],
   "source": [
    "test.count()"
   ]
  },
  {
   "cell_type": "code",
   "execution_count": 38,
   "id": "cebf13cd",
   "metadata": {},
   "outputs": [],
   "source": [
    "classifier1 = DecisionTreeClassifier(labelCol='Label_ind').fit(train)"
   ]
  },
  {
   "cell_type": "code",
   "execution_count": 39,
   "id": "fd523a74",
   "metadata": {},
   "outputs": [
    {
     "name": "stdout",
     "output_type": "stream",
     "text": [
      "+--------------------+---------+------------------+--------------------+----------+\n",
      "|            features|Label_ind|     rawPrediction|         probability|prediction|\n",
      "+--------------------+---------+------------------+--------------------+----------+\n",
      "|[12.0,0.0,175.0,1...|      0.0|[41.0,0.0,0.0,0.0]|   [1.0,0.0,0.0,0.0]|       0.0|\n",
      "|[16.0,1.0,160.0,1...|      0.0|[41.0,0.0,0.0,0.0]|   [1.0,0.0,0.0,0.0]|       0.0|\n",
      "|[17.0,1.0,160.0,1...|      0.0|[41.0,0.0,0.0,0.0]|   [1.0,0.0,0.0,0.0]|       0.0|\n",
      "|[33.0,0.0,190.0,4...|      0.0|[41.0,0.0,0.0,0.0]|   [1.0,0.0,0.0,0.0]|       0.0|\n",
      "|[36.0,0.0,190.0,7...|      1.0|[0.0,21.0,0.0,0.0]|   [0.0,1.0,0.0,0.0]|       1.0|\n",
      "|[39.0,0.0,190.0,9...|      2.0|[0.0,1.0,16.0,0.0]|[0.0,0.0588235294...|       2.0|\n",
      "|[50.0,1.0,130.0,6...|      1.0|[0.0,21.0,0.0,0.0]|   [0.0,1.0,0.0,0.0]|       1.0|\n",
      "|[53.0,0.0,210.0,5...|      1.0|[0.0,21.0,0.0,0.0]|   [0.0,1.0,0.0,0.0]|       1.0|\n",
      "|[56.0,0.0,210.0,9...|      2.0|[0.0,1.0,16.0,0.0]|[0.0,0.0588235294...|       2.0|\n",
      "|[58.0,0.0,210.0,1...|      3.0|[0.0,0.0,0.0,10.0]|   [0.0,0.0,0.0,1.0]|       3.0|\n",
      "+--------------------+---------+------------------+--------------------+----------+\n",
      "only showing top 10 rows\n",
      "\n"
     ]
    }
   ],
   "source": [
    "predictions1 = classifier1.transform(test)\n",
    "predictions1.show(10)"
   ]
  },
  {
   "cell_type": "code",
   "execution_count": 41,
   "id": "3e28ada0",
   "metadata": {},
   "outputs": [
    {
     "data": {
      "text/plain": [
       "100.0"
      ]
     },
     "execution_count": 41,
     "metadata": {},
     "output_type": "execute_result"
    }
   ],
   "source": [
    "acc = MulticlassClassificationEvaluator(labelCol='Label_ind',metricName='accuracy').evaluate(predictions1)\n",
    "acc*100"
   ]
  },
  {
   "cell_type": "code",
   "execution_count": null,
   "id": "7c1b34ce",
   "metadata": {},
   "outputs": [],
   "source": []
  }
 ],
 "metadata": {
  "kernelspec": {
   "display_name": "Python 3 (ipykernel)",
   "language": "python",
   "name": "python3"
  },
  "language_info": {
   "codemirror_mode": {
    "name": "ipython",
    "version": 3
   },
   "file_extension": ".py",
   "mimetype": "text/x-python",
   "name": "python",
   "nbconvert_exporter": "python",
   "pygments_lexer": "ipython3",
   "version": "3.9.12"
  }
 },
 "nbformat": 4,
 "nbformat_minor": 5
}
